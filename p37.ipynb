{
 "cells": [
  {
   "cell_type": "code",
   "execution_count": 2,
   "metadata": {
    "collapsed": false
   },
   "outputs": [],
   "source": [
    "N=10\n",
    "M=10\n",
    "input_=\"\"\"\n",
    "#S######.#\n",
    "......#..#\n",
    ".#.##.##.#\n",
    ".#........\n",
    "##.##.####\n",
    "....#....#\n",
    ".#######.#\n",
    "....#.....\n",
    ".####.###.\n",
    "....#...G#\"\"\"[1:]\n"
   ]
  },
  {
   "cell_type": "code",
   "execution_count": 5,
   "metadata": {
    "collapsed": true
   },
   "outputs": [],
   "source": [
    "from queue import Queue\n",
    "from itertools import product\n"
   ]
  },
  {
   "cell_type": "code",
   "execution_count": 37,
   "metadata": {
    "collapsed": false
   },
   "outputs": [],
   "source": [
    "maze=input_.splitlines()\n",
    "for i in range(N):\n",
    "    for j in range(M):\n",
    "        if(maze[i][j]=='S'):\n",
    "            sx=i\n",
    "            sy=j\n",
    "dxy=[(-1,0),(1,0),(0,-1),(0,1)]\n"
   ]
  },
  {
   "cell_type": "code",
   "execution_count": 43,
   "metadata": {
    "collapsed": false
   },
   "outputs": [
    {
     "data": {
      "text/plain": [
       "22"
      ]
     },
     "execution_count": 43,
     "metadata": {},
     "output_type": "execute_result"
    }
   ],
   "source": [
    "def bfs():\n",
    "    inf=100000\n",
    "    dis=[[inf for i in range(N)] for j in range(M)]\n",
    "    dis[sx][sy]=0\n",
    "    que=Queue()\n",
    "    que.put((sx,sy))\n",
    "\n",
    "    while not que.empty():\n",
    "        #queue から取り出した点を qx, qy とする\n",
    "        qx,qy=que.get()\n",
    "        \n",
    "        for dx,dy in dxy:\n",
    "            #移動後の点を nx, ny とする\n",
    "            nx=qx+dx\n",
    "            ny=qy+dy\n",
    "            #座標内に収まっているか, 壁でないか, 訪れたことがないかの判定\n",
    "            if(-1<nx<N and -1<ny<M and maze[nx][ny]!='#' and dis[nx][ny]==inf):\n",
    "                que.put((nx,ny))\n",
    "                dis[nx][ny]=dis[qx][qy]+1\n",
    "                if(maze[nx][ny]=='G'):\n",
    "                    return dis[nx][ny]\n",
    "    return dis\n",
    "bfs()"
   ]
  }
 ],
 "metadata": {
  "kernelspec": {
   "display_name": "Python 3",
   "language": "python",
   "name": "python3"
  },
  "language_info": {
   "codemirror_mode": {
    "name": "ipython",
    "version": 3
   },
   "file_extension": ".py",
   "mimetype": "text/x-python",
   "name": "python",
   "nbconvert_exporter": "python",
   "pygments_lexer": "ipython3",
   "version": "3.5.1"
  },
  "latex_envs": {
   "bibliofile": "biblio.bib",
   "cite_by": "apalike",
   "current_citInitial": 1,
   "eqLabelWithNumbers": true,
   "eqNumInitial": 0
  }
 },
 "nbformat": 4,
 "nbformat_minor": 0
}
