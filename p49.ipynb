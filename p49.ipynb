{
 "cells": [
  {
   "cell_type": "code",
   "execution_count": 31,
   "metadata": {
    "collapsed": false
   },
   "outputs": [],
   "source": [
    "def solve(L):\n",
    "    #L_iの最大値は50000\n",
    "    min1=50001\n",
    "    min2=50001\n",
    "    min1idx=0\n",
    "    min2idx=0\n",
    "\n",
    "    if len(L)==1:\n",
    "        #1枚になるまで再帰\n",
    "        return 0\n",
    "    for idx, l_i in enumerate(L):\n",
    "        if l_i<min1:\n",
    "            min2=min1\n",
    "            min1=l_i\n",
    "            min2idx=min1idx\n",
    "            min1idx=idx\n",
    "        elif l_i<min2:\n",
    "            min2=l_i\n",
    "            min2idx=idx\n",
    "    \n",
    "    #1番目,2番めに小さい要素を取り除く\n",
    "    if min1idx<min2idx:\n",
    "        #popした後にindexがずれてしまうので修正しておく\n",
    "        min2idx-=1\n",
    "    L.pop(min1idx)\n",
    "    L.pop(min2idx)\n",
    "    L.append(min1+min2)\n",
    "    return min1+min2+solve(L)"
   ]
  },
  {
   "cell_type": "code",
   "execution_count": 35,
   "metadata": {
    "collapsed": false
   },
   "outputs": [
    {
     "data": {
      "text/plain": [
       "34"
      ]
     },
     "execution_count": 35,
     "metadata": {},
     "output_type": "execute_result"
    }
   ],
   "source": [
    "N=3\n",
    "L=[8,5,8]\n",
    "solve(L)"
   ]
  },
  {
   "cell_type": "code",
   "execution_count": 34,
   "metadata": {
    "collapsed": false
   },
   "outputs": [
    {
     "data": {
      "text/plain": [
       "33"
      ]
     },
     "execution_count": 34,
     "metadata": {},
     "output_type": "execute_result"
    }
   ],
   "source": [
    "N=5\n",
    "L=[3,4,5,1,2]\n",
    "solve(L)"
   ]
  }
 ],
 "metadata": {
  "kernelspec": {
   "display_name": "Python 3",
   "language": "python",
   "name": "python3"
  },
  "language_info": {
   "codemirror_mode": {
    "name": "ipython",
    "version": 3
   },
   "file_extension": ".py",
   "mimetype": "text/x-python",
   "name": "python",
   "nbconvert_exporter": "python",
   "pygments_lexer": "ipython3",
   "version": "3.5.1"
  },
  "latex_envs": {
   "bibliofile": "biblio.bib",
   "cite_by": "apalike",
   "current_citInitial": 1,
   "eqLabelWithNumbers": true,
   "eqNumInitial": 0
  }
 },
 "nbformat": 4,
 "nbformat_minor": 0
}
