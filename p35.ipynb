{
 "cells": [
  {
   "cell_type": "code",
   "execution_count": 63,
   "metadata": {
    "collapsed": true
   },
   "outputs": [],
   "source": [
    "input_=\"\"\"\n",
    "W........WW.\n",
    ".WWW.....WWW\n",
    "....WW...WW.\n",
    ".........WW.\n",
    ".........W..\n",
    "..W......W..\n",
    ".W.W.....WW.\n",
    "W.W.W.....W.\n",
    ".W.W......W.\n",
    "..W.......W.\"\"\"[1:]\n",
    "N=10\n",
    "M=12\n",
    "field=[[s for s in f] for f in input_.split('\\n')]"
   ]
  },
  {
   "cell_type": "code",
   "execution_count": 64,
   "metadata": {
    "collapsed": true
   },
   "outputs": [],
   "source": [
    "def dfs(x,y):\n",
    "    field[x][y]='.'\n",
    "    for dx in [-1,0,1]:\n",
    "        for dy in [-1,0,1]:\n",
    "            nx = x+dx\n",
    "            ny = y+dy\n",
    "            if -1<nx<N and -1<ny<M and field[nx][ny]=='W':\n",
    "                dfs(nx,ny)\n",
    "    return"
   ]
  },
  {
   "cell_type": "code",
   "execution_count": 65,
   "metadata": {
    "collapsed": false
   },
   "outputs": [
    {
     "data": {
      "text/plain": [
       "3"
      ]
     },
     "execution_count": 65,
     "metadata": {},
     "output_type": "execute_result"
    }
   ],
   "source": [
    "res=0\n",
    "for i in range(N):\n",
    "    for j in range(M):\n",
    "        if field[i][j]=='W':\n",
    "            dfs(i,j)\n",
    "            res+=1\n",
    "res"
   ]
  },
  {
   "cell_type": "code",
   "execution_count": null,
   "metadata": {
    "collapsed": true
   },
   "outputs": [],
   "source": []
  }
 ],
 "metadata": {
  "kernelspec": {
   "display_name": "Python 3",
   "language": "python",
   "name": "python3"
  },
  "language_info": {
   "codemirror_mode": {
    "name": "ipython",
    "version": 3
   },
   "file_extension": ".py",
   "mimetype": "text/x-python",
   "name": "python",
   "nbconvert_exporter": "python",
   "pygments_lexer": "ipython3",
   "version": "3.5.1"
  },
  "latex_envs": {
   "bibliofile": "biblio.bib",
   "cite_by": "apalike",
   "current_citInitial": 1,
   "eqLabelWithNumbers": true,
   "eqNumInitial": 0
  }
 },
 "nbformat": 4,
 "nbformat_minor": 0
}
