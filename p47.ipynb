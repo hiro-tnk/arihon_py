{
 "cells": [
  {
   "cell_type": "code",
   "execution_count": 1,
   "metadata": {
    "collapsed": false
   },
   "outputs": [],
   "source": [
    "N=6\n",
    "R=10\n",
    "X=[1,7,15,20,30,50]"
   ]
  },
  {
   "cell_type": "code",
   "execution_count": 4,
   "metadata": {
    "collapsed": false
   },
   "outputs": [
    {
     "name": "stdout",
     "output_type": "stream",
     "text": [
      "7\n",
      "30\n",
      "50\n",
      "result: 3\n"
     ]
    }
   ],
   "source": [
    "X=sorted(X)\n",
    "ans=0\n",
    "i=0\n",
    "while(i<N):\n",
    "    s=X[i]\n",
    "    i+=1\n",
    "    while(i<N and X[i]<=s+R):\n",
    "        i+=1\n",
    "    p=X[i-1]\n",
    "    print(p)\n",
    "    while(i<N and X[i]<=p+R):\n",
    "        i+=1\n",
    "    ans += 1\n",
    "print('result: {0}'.format(ans))\n"
   ]
  },
  {
   "cell_type": "code",
   "execution_count": null,
   "metadata": {
    "collapsed": true
   },
   "outputs": [],
   "source": []
  }
 ],
 "metadata": {
  "kernelspec": {
   "display_name": "Python 3",
   "language": "python",
   "name": "python3"
  },
  "language_info": {
   "codemirror_mode": {
    "name": "ipython",
    "version": 3
   },
   "file_extension": ".py",
   "mimetype": "text/x-python",
   "name": "python",
   "nbconvert_exporter": "python",
   "pygments_lexer": "ipython3",
   "version": "3.5.1"
  },
  "latex_envs": {
   "bibliofile": "biblio.bib",
   "cite_by": "apalike",
   "current_citInitial": 1,
   "eqLabelWithNumbers": true,
   "eqNumInitial": 0
  }
 },
 "nbformat": 4,
 "nbformat_minor": 0
}
